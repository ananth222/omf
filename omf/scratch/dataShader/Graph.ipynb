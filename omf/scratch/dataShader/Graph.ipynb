{
 "cells": [
  {
   "cell_type": "code",
   "execution_count": 1,
   "metadata": {},
   "outputs": [],
   "source": [
    "import math\n",
    "import numpy as np\n",
    "import pandas as pd\n",
    "\n",
    "import datashader as ds\n",
    "import datashader.transfer_functions as tf\n",
    "from datashader.layout import random_layout, circular_layout, forceatlas2_layout\n",
    "from datashader.bundling import connect_edges, hammer_bundle\n",
    "\n",
    "from itertools import chain"
   ]
  },
  {
   "cell_type": "code",
   "execution_count": 2,
   "metadata": {},
   "outputs": [
    {
     "data": {
      "text/html": [
       "<div>\n",
       "<style scoped>\n",
       "    .dataframe tbody tr th:only-of-type {\n",
       "        vertical-align: middle;\n",
       "    }\n",
       "\n",
       "    .dataframe tbody tr th {\n",
       "        vertical-align: top;\n",
       "    }\n",
       "\n",
       "    .dataframe thead th {\n",
       "        text-align: right;\n",
       "    }\n",
       "</style>\n",
       "<table border=\"1\" class=\"dataframe\">\n",
       "  <thead>\n",
       "    <tr style=\"text-align: right;\">\n",
       "      <th></th>\n",
       "      <th>name</th>\n",
       "    </tr>\n",
       "  </thead>\n",
       "  <tbody>\n",
       "    <tr>\n",
       "      <th>99995</th>\n",
       "      <td>node99995</td>\n",
       "    </tr>\n",
       "    <tr>\n",
       "      <th>99996</th>\n",
       "      <td>node99996</td>\n",
       "    </tr>\n",
       "    <tr>\n",
       "      <th>99997</th>\n",
       "      <td>node99997</td>\n",
       "    </tr>\n",
       "    <tr>\n",
       "      <th>99998</th>\n",
       "      <td>node99998</td>\n",
       "    </tr>\n",
       "    <tr>\n",
       "      <th>99999</th>\n",
       "      <td>node99999</td>\n",
       "    </tr>\n",
       "  </tbody>\n",
       "</table>\n",
       "</div>"
      ],
      "text/plain": [
       "            name\n",
       "99995  node99995\n",
       "99996  node99996\n",
       "99997  node99997\n",
       "99998  node99998\n",
       "99999  node99999"
      ]
     },
     "execution_count": 2,
     "metadata": {},
     "output_type": "execute_result"
    }
   ],
   "source": [
    "np.random.seed(0)\n",
    "n=100000\n",
    "m=200000\n",
    "\n",
    "nodes = pd.DataFrame([\"node\"+str(i) for i in range(n)], columns=['name'])\n",
    "nodes.tail()"
   ]
  },
  {
   "cell_type": "code",
   "execution_count": 3,
   "metadata": {},
   "outputs": [
    {
     "data": {
      "text/html": [
       "<div>\n",
       "<style scoped>\n",
       "    .dataframe tbody tr th:only-of-type {\n",
       "        vertical-align: middle;\n",
       "    }\n",
       "\n",
       "    .dataframe tbody tr th {\n",
       "        vertical-align: top;\n",
       "    }\n",
       "\n",
       "    .dataframe thead th {\n",
       "        text-align: right;\n",
       "    }\n",
       "</style>\n",
       "<table border=\"1\" class=\"dataframe\">\n",
       "  <thead>\n",
       "    <tr style=\"text-align: right;\">\n",
       "      <th></th>\n",
       "      <th>source</th>\n",
       "      <th>target</th>\n",
       "    </tr>\n",
       "  </thead>\n",
       "  <tbody>\n",
       "    <tr>\n",
       "      <th>199995</th>\n",
       "      <td>36462</td>\n",
       "      <td>14956</td>\n",
       "    </tr>\n",
       "    <tr>\n",
       "      <th>199996</th>\n",
       "      <td>10782</td>\n",
       "      <td>76704</td>\n",
       "    </tr>\n",
       "    <tr>\n",
       "      <th>199997</th>\n",
       "      <td>33634</td>\n",
       "      <td>18320</td>\n",
       "    </tr>\n",
       "    <tr>\n",
       "      <th>199998</th>\n",
       "      <td>41878</td>\n",
       "      <td>81592</td>\n",
       "    </tr>\n",
       "    <tr>\n",
       "      <th>199999</th>\n",
       "      <td>57405</td>\n",
       "      <td>95868</td>\n",
       "    </tr>\n",
       "  </tbody>\n",
       "</table>\n",
       "</div>"
      ],
      "text/plain": [
       "        source  target\n",
       "199995   36462   14956\n",
       "199996   10782   76704\n",
       "199997   33634   18320\n",
       "199998   41878   81592\n",
       "199999   57405   95868"
      ]
     },
     "execution_count": 3,
     "metadata": {},
     "output_type": "execute_result"
    }
   ],
   "source": [
    "edges = pd.DataFrame(np.random.randint(0,len(nodes), size=(m, 2)),\n",
    "                     columns=['source', 'target'])\n",
    "edges.tail()"
   ]
  },
  {
   "cell_type": "code",
   "execution_count": 4,
   "metadata": {},
   "outputs": [
    {
     "data": {
      "text/html": [
       "<div>\n",
       "<style scoped>\n",
       "    .dataframe tbody tr th:only-of-type {\n",
       "        vertical-align: middle;\n",
       "    }\n",
       "\n",
       "    .dataframe tbody tr th {\n",
       "        vertical-align: top;\n",
       "    }\n",
       "\n",
       "    .dataframe thead th {\n",
       "        text-align: right;\n",
       "    }\n",
       "</style>\n",
       "<table border=\"1\" class=\"dataframe\">\n",
       "  <thead>\n",
       "    <tr style=\"text-align: right;\">\n",
       "      <th></th>\n",
       "      <th>name</th>\n",
       "      <th>x</th>\n",
       "      <th>y</th>\n",
       "    </tr>\n",
       "  </thead>\n",
       "  <tbody>\n",
       "    <tr>\n",
       "      <th>99995</th>\n",
       "      <td>node99995</td>\n",
       "      <td>0.465457</td>\n",
       "      <td>0.620093</td>\n",
       "    </tr>\n",
       "    <tr>\n",
       "      <th>99996</th>\n",
       "      <td>node99996</td>\n",
       "      <td>0.096666</td>\n",
       "      <td>0.102899</td>\n",
       "    </tr>\n",
       "    <tr>\n",
       "      <th>99997</th>\n",
       "      <td>node99997</td>\n",
       "      <td>0.991503</td>\n",
       "      <td>0.218015</td>\n",
       "    </tr>\n",
       "    <tr>\n",
       "      <th>99998</th>\n",
       "      <td>node99998</td>\n",
       "      <td>0.252016</td>\n",
       "      <td>0.797746</td>\n",
       "    </tr>\n",
       "    <tr>\n",
       "      <th>99999</th>\n",
       "      <td>node99999</td>\n",
       "      <td>0.552368</td>\n",
       "      <td>0.104700</td>\n",
       "    </tr>\n",
       "  </tbody>\n",
       "</table>\n",
       "</div>"
      ],
      "text/plain": [
       "            name         x         y\n",
       "99995  node99995  0.465457  0.620093\n",
       "99996  node99996  0.096666  0.102899\n",
       "99997  node99997  0.991503  0.218015\n",
       "99998  node99998  0.252016  0.797746\n",
       "99999  node99999  0.552368  0.104700"
      ]
     },
     "execution_count": 4,
     "metadata": {},
     "output_type": "execute_result"
    }
   ],
   "source": [
    "circular  = circular_layout(nodes, uniform=False)\n",
    "randomloc = random_layout(nodes)\n",
    "randomloc.tail()"
   ]
  },
  {
   "cell_type": "code",
   "execution_count": 5,
   "metadata": {},
   "outputs": [],
   "source": [
    "cvsopts = dict(plot_height=600, plot_width=800)\n",
    "\n",
    "\n",
    "def nodesplot(nodes, name=None, canvas=None, cat=None):\n",
    "    canvas = ds.Canvas(**cvsopts) if canvas is None else canvas\n",
    "    aggregator=None if cat is None else ds.count_cat(cat)\n",
    "    agg=canvas.points(nodes,'x','y',aggregator)\n",
    "    return tf.spread(tf.shade(agg, cmap=[\"#FF3333\"]), px=3, name=name)"
   ]
  },
  {
   "cell_type": "code",
   "execution_count": 6,
   "metadata": {},
   "outputs": [
    {
     "data": {
      "text/html": [
       "<table style=\"width:100%; text-align: center\"><tbody><tr style=\"background-color:white\"><td style=\"text-align: center\"><b>ForceAtlas2 layout</b><br><br><img style=\"margin: auto; border:1px solid\" src='data:image/png;base64,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'/></td></tr></tbody></table>"
      ],
      "text/plain": [
       "<datashader.transfer_functions.Images at 0x7f13c7b80690>"
      ]
     },
     "execution_count": 6,
     "metadata": {},
     "output_type": "execute_result"
    }
   ],
   "source": [
    "forcedirected = random_layout(nodes, edges)\n",
    "tf.Images(nodesplot(forcedirected, \"ForceAtlas2 layout\"))"
   ]
  },
  {
   "cell_type": "code",
   "execution_count": 7,
   "metadata": {},
   "outputs": [],
   "source": [
    "def edgesplot(edges, name=None, canvas=None):\n",
    "    canvas = ds.Canvas(**cvsopts) if canvas is None else canvas\n",
    "    return tf.shade(canvas.line(edges, 'x','y', agg=ds.count()), name=name)\n",
    "    \n",
    "def graphplot(nodes, edges, name=\"\", canvas=None, cat=None):\n",
    "    if canvas is None:\n",
    "        xr = nodes.x.min(), nodes.x.max()\n",
    "        yr = nodes.y.min(), nodes.y.max()\n",
    "        canvas = ds.Canvas(x_range=xr, y_range=yr, **cvsopts)\n",
    "        \n",
    "    np = nodesplot(nodes, name + \" nodes\", canvas, cat)\n",
    "    #print(np)\n",
    "    ep = edgesplot(edges, name + \" edges\", canvas)\n",
    "    #print(ep)\n",
    "    return tf.stack(ep, np, how=\"over\", name=name)"
   ]
  },
  {
   "cell_type": "code",
   "execution_count": 8,
   "metadata": {},
   "outputs": [
    {
     "name": "stdout",
     "output_type": "stream",
     "text": [
      "CPU times: user 5.22 s, sys: 68.2 ms, total: 5.29 s\n",
      "Wall time: 5.29 s\n"
     ]
    },
    {
     "data": {
      "text/html": [
       "<table style=\"width:100%; text-align: center\"><tbody><tr style=\"background-color:white\"><td style=\"text-align: center\"><b></b><br><br><img style=\"margin: auto; border:1px solid\" src='data:image/png;base64,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'/></td></tr></tbody></table>"
      ],
      "text/plain": [
       "<datashader.transfer_functions.Images at 0x7f13c7a9ced0>"
      ]
     },
     "execution_count": 8,
     "metadata": {},
     "output_type": "execute_result"
    }
   ],
   "source": [
    "#cd = circular\n",
    "fd = forcedirected\n",
    "\n",
    "#%time cd_d = graphplot(cd, connect_edges(cd,edges), \"Circular layout\")\n",
    "%time fd_d = graphplot(fd, connect_edges(fd,edges)) \n",
    "#%time cd_b = graphplot(cd, hammer_bundle(cd,edges), \"Circular layout, bundled\")\n",
    "#%time fd_b = graphplot(fd, hammer_bundle(fd,edges), \"Force-directed, bundled\") \n",
    "\n",
    "tf.Images(fd_d)"
   ]
  },
  {
   "cell_type": "code",
   "execution_count": 9,
   "metadata": {},
   "outputs": [
    {
     "data": {
      "image/png": "[encoded data removed]",
      "text/plain": [
       "<PIL.Image.Image image mode=RGBA size=800x600 at 0x7F13C859D950>"
      ]
     },
     "execution_count": 9,
     "metadata": {},
     "output_type": "execute_result"
    }
   ],
   "source": [
    "back_img = tf.Image(fd_d).to_pil()\n",
    "back_img"
   ]
  },
  {
   "cell_type": "code",
   "execution_count": 10,
   "metadata": {
    "scrolled": false
   },
   "outputs": [
    {
     "name": "stdout",
     "output_type": "stream",
     "text": [
      "FigureWidget({\n",
      "    'data': [{'marker': {'opacity': 0},\n",
      "              'mode': 'markers',\n",
      "              'type': 'scatter',\n",
      "              'uid': 'fe410ea8-cd83-11e8-9c00-e0946780dd6a',\n",
      "              'x': [1.3706338012675623e-05, 0.9999871549898471],\n",
      "              'y': [7.74365502365093e-06, 0.9999767958020159]}],\n",
      "    'layout': {'height': 600,\n",
      "               'images': [{'layer': 'below',\n",
      "                           'sizex': 0.9999734486518345,\n",
      "                           'sizey': 0.9999690521469923,\n",
      "                           'source': ('data:image/png;base64,iVBORw0K' ... '/CWmLkNYaNvwAAAABJRU5ErkJggg=='),\n",
      "                           'x': 1.3706338012675623e-05,\n",
      "                           'xref': 'x',\n",
      "                           'y': 0.9999767958020159,\n",
      "                           'yref': 'y'}],\n",
      "               'width': 800}\n",
      "})\n"
     ]
    },
    {
     "data": {
      "application/vnd.jupyter.widget-view+json": {
       "model_id": "9fa17066543a4fb8b9eefdbf968bc45e",
       "version_major": 2,
       "version_minor": 0
      },
      "text/plain": [
       "RmlndXJlV2lkZ2V0KHsKICAgICdkYXRhJzogW3snbWFya2VyJzogeydvcGFjaXR5JzogMH0sCiAgICAgICAgICAgICAgJ21vZGUnOiAnbWFya2VycycsCiAgICAgICAgICAgICAgJ3R5cGUnOiDigKY=\n"
      ]
     },
     "metadata": {},
     "output_type": "display_data"
    }
   ],
   "source": [
    "x_range=fd.x.min(), fd.x.max()\n",
    "y_range=fd.y.min(), fd.y.max()\n",
    "\n",
    "#xr = nodes.x.min(), nodes.x.max()\n",
    "#yr = nodes.y.min(), nodes.y.max()\n",
    "plot_height=600\n",
    "plot_width=800\n",
    "\n",
    "mapbox_access_token = 'pk.eyJ1IjoiZWp0YWxib3QiLCJhIjoiY2ptMHBlOGdjMmZlaTNwb2dwMHE2Mm54NCJ9.xzceVNmAZy49SyFDb3UMaw'\n",
    "\n",
    "import plotly.graph_objs as go\n",
    "f = go.FigureWidget(data=[{'x': x_range, \n",
    "                           'y': y_range, \n",
    "                           'mode': 'markers',\n",
    "                           'marker': {'opacity': 0}}], # invisible trace to init axes and to support autoresize\n",
    "                    layout={'width': plot_width, \n",
    "                            'height': plot_height}\n",
    "                   )\n",
    "\n",
    "f.layout.images = [go.layout.Image(\n",
    "    source = back_img,  # plotly now performs auto conversion of PIL image to png data URI\n",
    "    xref = \"x\",\n",
    "    yref = \"y\",\n",
    "    x = x_range[0],\n",
    "    y = y_range[1],\n",
    "    sizex = x_range[1] - x_range[0],\n",
    "    sizey = y_range[1] - y_range[0],\n",
    "    #sizing = \"stretch\",\n",
    "    layer = \"below\")]\n",
    "\n",
    "print(f)\n",
    "\n",
    "# Install callback to run exactly once if one or more of the following properties changes\n",
    "#  - xaxis range\n",
    "#  - yaxis range\n",
    "#  - figure width\n",
    "#  - figure height\n",
    "#f.layout.on_change(update_ds_image, 'xaxis.range', 'yaxis.range', 'width', 'height')\n",
    "\n",
    "f"
   ]
  },
  {
   "cell_type": "code",
   "execution_count": 11,
   "metadata": {
    "scrolled": false
   },
   "outputs": [],
   "source": [
    "def newGraphplot(nodes, edges, name=\"\", canvas=None, cat=None, x_range=None, y_range=None):\n",
    "    if canvas is None:\n",
    "        xr = x_range\n",
    "        yr = y_range\n",
    "        canvas = ds.Canvas(x_range=xr, y_range=yr, **cvsopts)\n",
    "    #print(x_range)\n",
    "    np = nodesplot(nodes, name + \" nodes\", canvas, cat)\n",
    "    #print(np)\n",
    "    ep = edgesplot(edges, name + \" edges\", canvas)\n",
    "    #print(ep)\n",
    "    return tf.stack(ep, np, how=\"over\", name=name)\n",
    "\n",
    "#newG = newGraphPlot(fd, connect_edges(fd,edges), \"Force-directed\", x_range=x_range, y_range=y_range, plot_width=plot_width, plot_height=plot_height)\n",
    "\n",
    "#print(newG)\n",
    "\n",
    "#newImg = tf.Image(newG).to_pil()\n",
    "\n",
    "\n",
    "def update_ds_image(layout, x_range, y_range, plot_width, plot_height):\n",
    "    img = f.layout.images[0]\n",
    "    \n",
    "    # Update with batch_update so all updates happen simultaneously\n",
    "    with f.batch_update():\n",
    "        img.x = x_range[0]\n",
    "        img.y = y_range[1]\n",
    "        img.sizex = x_range[1] - x_range[0]\n",
    "        img.sizey = y_range[1] - y_range[0]\n",
    "        #update the image source here, rest can stay\n",
    "        newDataShade = newGraphplot(fd, connect_edges(fd,edges), x_range=x_range, y_range=y_range)\n",
    "        img.source = tf.Image(newDataShade).to_pil()\n",
    "\n",
    "f.layout.on_change(update_ds_image, 'xaxis.range', 'yaxis.range', 'width', 'height')\n",
    "#newImg\n"
   ]
  },
  {
   "cell_type": "code",
   "execution_count": 12,
   "metadata": {},
   "outputs": [
    {
     "name": "stdout",
     "output_type": "stream",
     "text": [
      "FigureWidget({\n",
      "    'data': [{'lat': [1.3706338012675623e-05, 0.9999871549898471],\n",
      "              'lon': [7.74365502365093e-06, 0.9999767958020159],\n",
      "              'mode': 'markers',\n",
      "              'type': 'scattermapbox',\n",
      "              'uid': 'fe410ea9-cd83-11e8-9c00-e0946780dd6a'}],\n",
      "    'layout': {'autosize': True,\n",
      "               'height': 600,\n",
      "               'images': [{'layer': 'above',\n",
      "                           'sizex': 0.9999734486518345,\n",
      "                           'sizey': 0.9999690521469923,\n",
      "                           'source': ('data:image/png;base64,iVBORw0K' ... '/CWmLkNYaNvwAAAABJRU5ErkJggg=='),\n",
      "                           'x': 1.3706338012675623e-05,\n",
      "                           'xref': 'paper',\n",
      "                           'y': 0.9999767958020159,\n",
      "                           'yref': 'paper'}],\n",
      "               'mapbox': {'accesstoken': ('pk.eyJ1IjoiZWp0YWxib3QiLCJhIjo' ... 'm54NCJ9.xzceVNmAZy49SyFDb3UMaw'),\n",
      "                          'bearing': 0,\n",
      "                          'center': {'lat': 0, 'lon': 0},\n",
      "                          'pitch': 0},\n",
      "               'width': 800}\n",
      "})\n"
     ]
    },
    {
     "data": {
      "application/vnd.jupyter.widget-view+json": {
       "model_id": "4b5383d47cdd4d24a94aa21db99b090b",
       "version_major": 2,
       "version_minor": 0
      },
      "text/plain": [
       "RmlndXJlV2lkZ2V0KHsKICAgICdkYXRhJzogW3snbGF0JzogWzEuMzcwNjMzODAxMjY3NTYyM2UtMDUsIDAuOTk5OTg3MTU0OTg5ODQ3MV0sCiAgICAgICAgICAgICAgJ2xvbic6IFs3Ljc0MzbigKY=\n"
      ]
     },
     "metadata": {},
     "output_type": "display_data"
    }
   ],
   "source": [
    "mapbox_access_token = 'pk.eyJ1IjoiZWp0YWxib3QiLCJhIjoiY2ptMHBlOGdjMmZlaTNwb2dwMHE2Mm54NCJ9.xzceVNmAZy49SyFDb3UMaw'\n",
    "\n",
    "map_figure = go.FigureWidget(data=[go.Scattermapbox(\n",
    "    lat=[fd.x.min(), fd.x.max()],\n",
    "    lon=[fd.y.min(), fd.y.max()],\n",
    "    mode='markers')], \n",
    "                    # invisible trace to init axes and to support autoresize\n",
    "                    layout={'width': plot_width, \n",
    "                            'height': plot_height,\n",
    "                            'autosize': True,\n",
    "                            'mapbox':{\n",
    "                               'accesstoken': mapbox_access_token,\n",
    "                               'bearing': 0,\n",
    "                               'center': {\n",
    "                                   'lat': 0,\n",
    "                                   'lon': -0\n",
    "                                },\n",
    "                               'pitch': 0,\n",
    "                            }\n",
    "                    })\n",
    "\n",
    "map_figure.layout.images = [go.layout.Image(\n",
    "    source = back_img,  # plotly now performs auto conversion of PIL image to png data URI\n",
    "    xref = \"paper\",\n",
    "    yref = \"paper\",\n",
    "    x = x_range[0],\n",
    "    y = y_range[1],\n",
    "    sizex = x_range[1] - x_range[0],\n",
    "    sizey = y_range[1] - y_range[0],\n",
    "    #sizing = \"stretch\",\n",
    "    layer = \"above\")]\n",
    "\n",
    "print(map_figure)\n",
    "map_figure.layout.on_change(update_ds_image, 'xaxis.range', 'yaxis.range', 'width', 'height')\n",
    "\n",
    "map_figure"
   ]
  },
  {
   "cell_type": "code",
   "execution_count": null,
   "metadata": {},
   "outputs": [],
   "source": []
  }
 ],
 "metadata": {
  "kernelspec": {
   "display_name": "Python 2",
   "language": "python",
   "name": "python2"
  },
  "language_info": {
   "codemirror_mode": {
    "name": "ipython",
    "version": 2
   },
   "file_extension": ".py",
   "mimetype": "text/x-python",
   "name": "python",
   "nbconvert_exporter": "python",
   "pygments_lexer": "ipython2",
   "version": "2.7.15rc1"
  }
 },
 "nbformat": 4,
 "nbformat_minor": 2
}
